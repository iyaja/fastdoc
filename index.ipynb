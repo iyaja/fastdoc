{
 "cells": [
  {
   "cell_type": "markdown",
   "metadata": {},
   "source": [
    "# fastdoc\n",
    "\n",
    "> Create publication-quality books from Jupyter notebooks"
   ]
  },
  {
   "cell_type": "markdown",
   "metadata": {},
   "source": [
    "The output of `fastdoc` is an [asciidoc](https://asciidoc.org/) file for each input notebook. You can then use [asciidoctor](https://asciidoctor.org/) to convert that to HTML, DocBook, epub, mobi, and so forth."
   ]
  },
  {
   "cell_type": "markdown",
   "metadata": {},
   "source": [
    "## Install"
   ]
  },
  {
   "cell_type": "markdown",
   "metadata": {},
   "source": [
    "To install using pip:\n",
    "\n",
    "```bash\n",
    "pip install fastdoc\n",
    "```\n",
    "\n",
    "To install using Conda:\n",
    "\n",
    "```bash\n",
    "conda install -c fastai fastdoc\n",
    "```"
   ]
  },
  {
   "cell_type": "markdown",
   "metadata": {},
   "source": [
    "## How to use"
   ]
  },
  {
   "cell_type": "markdown",
   "metadata": {},
   "source": [
    "Suppose your notebook is in a folder called `book`. To run fastdoc:\n",
    "\n",
    "`fastdoc_convert_all --path book --dest_path convert_book` \n",
    "\n",
    "You'll find your exported asciidoc files and all images used in `convert_book`. \n",
    "\n",
    "For a single notebook demonstrating all the features of `fastdoc`, see the `test/_test.ipynb` notebook. \n",
    "\n",
    "For a complete O'Reilly book written in this way, see [fastbook](https://github.com/fastai/fastbook/)."
   ]
  },
  {
   "cell_type": "code",
   "execution_count": null,
   "metadata": {},
   "outputs": [],
   "source": []
  }
 ],
 "metadata": {
  "kernelspec": {
   "display_name": "Python 3",
   "language": "python",
   "name": "python3"
  }
 },
 "nbformat": 4,
 "nbformat_minor": 2
}
